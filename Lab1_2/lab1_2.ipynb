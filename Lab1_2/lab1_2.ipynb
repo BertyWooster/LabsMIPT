{
 "cells": [
  {
   "cell_type": "markdown",
   "metadata": {},
   "source": [
    "# Лабораторная работа 1.2"
   ]
  },
  {
   "cell_type": "code",
   "execution_count": 72,
   "metadata": {},
   "outputs": [
    {
     "name": "stdout",
     "output_type": "stream",
     "text": [
      "Полученные коэффициент пропорциональности: a*10^3 =  1.38 +- 0.02\n"
     ]
    },
    {
     "data": {
      "image/png": "[encoded data removed]",
      "text/plain": [
       "<Figure size 504x504 with 1 Axes>"
      ]
     },
     "metadata": {},
     "output_type": "display_data"
    }
   ],
   "source": [
    "#Проведение эксперимента:\n",
    "import matplotlib as mpl\n",
    "import pandas as pd\n",
    "import matplotlib.pyplot as plt\n",
    "from scipy.optimize import curve_fit\n",
    "from matplotlib import mlab\n",
    "from scipy import interpolate\n",
    "import math as mth\n",
    "import warnings\n",
    "warnings.filterwarnings('ignore')\n",
    "\n",
    "def myFunction(x, a, b): \n",
    "     return a*x+b\n",
    "\n",
    "# Парсинг данных.\n",
    "data = pd.read_table('measurements', sep = '\\s+' )\n",
    "angle = data['angle']\n",
    "channel = data['channel']\n",
    "channel_err = data['channel_err']\n",
    "\n",
    "\n",
    "X = [0.01]*len(angle)\n",
    "for i in range(len(angle)):\n",
    "    X[i] = 1-mth.cos(angle[i]*pi/180) \n",
    "\n",
    "Y = [0.01]*len(angle)\n",
    "for i in range(len(angle)):\n",
    "    Y[i] = 1/channel[i] - 1/channel[0]\n",
    "    \n",
    "\n",
    "Y_err = [0.01]*len(angle)\n",
    "for i in range(len(angle)):\n",
    "    Y_err[i] = (1/channel[i])**2*channel_err[i]\n",
    "    \n",
    "    \n",
    "# Мнк\n",
    "xlist = mlab.frange (X[0], X[len(X)-1], 0.005)\n",
    "result = curve_fit(f = myFunction, xdata= X, ydata= Y, sigma = Y_err,absolute_sigma = True )\n",
    "popt, pcov = result    \n",
    "  \n",
    "plt.figure(figsize= (7,7)) \n",
    "plt.errorbar(X,Y,yerr = Y_err,fmt = '.',label = 'Пересчитанные данные.') \n",
    "plt.plot(xlist, myFunction(xlist, *popt), label='МНК',color = 'blue')\n",
    "plt.xlabel(\"X = 1 - $cos(θ)$\")\n",
    "plt.ylabel(\"Y = 1/N - $1/N_0$\")\n",
    "plt.grid()\n",
    "plt.legend();   \n",
    "\n",
    "a,b = popt\n",
    "print(\"Полученные коэффициент пропорциональности: a*10^3 = \", (a*1000).round(2),\"+- 0.02\")"
   ]
  },
  {
   "cell_type": "markdown",
   "metadata": {},
   "source": [
    "## Определим энергию частицы, на которой происходит комптоновское рассеяние."
   ]
  },
  {
   "cell_type": "markdown",
   "metadata": {},
   "source": [
    "\\begin{equation}\n",
    "mc^2 = E_{\\gamma}\\frac{N(90)}{N(0)-N(90)}\n",
    "\\end{equation}"
   ]
  },
  {
   "cell_type": "code",
   "execution_count": 73,
   "metadata": {},
   "outputs": [
    {
     "name": "stdout",
     "output_type": "stream",
     "text": [
      "mc^2 = 480 +- 11 Мэв\n"
     ]
    }
   ],
   "source": [
    "'''\n",
    "mc^2 = E_gamma/a\n",
    "'''\n",
    "print(\"mc^2 = 480 +- 11 Мэв\")"
   ]
  },
  {
   "cell_type": "markdown",
   "metadata": {},
   "source": []
  }
 ],
 "metadata": {
  "kernelspec": {
   "display_name": "Python 3",
   "language": "python",
   "name": "python3"
  },
  "language_info": {
   "codemirror_mode": {
    "name": "ipython",
    "version": 3
   },
   "file_extension": ".py",
   "mimetype": "text/x-python",
   "name": "python",
   "nbconvert_exporter": "python",
   "pygments_lexer": "ipython3",
   "version": "3.5.2"
  }
 },
 "nbformat": 4,
 "nbformat_minor": 2
}
