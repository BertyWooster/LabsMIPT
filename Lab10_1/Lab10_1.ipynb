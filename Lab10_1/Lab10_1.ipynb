{
 "cells": [
  {
   "cell_type": "markdown",
   "metadata": {},
   "source": [
    "###  Лабораторная работа по теме \" Электронный парамагнитный резонанс\""
   ]
  },
  {
   "cell_type": "markdown",
   "metadata": {},
   "source": [
    "#### Проведение измерений и обработка результатов"
   ]
  },
  {
   "cell_type": "markdown",
   "metadata": {},
   "source": [
    "Поместим ампулу с исследуемым веществом внутрь катушки, и настроим генератор на резонансную частоту:\n",
    "\\begin{equation}\n",
    "f_{рез} = (128.80 \\pm 0.02) \\hspace{3mm} Мгц\n",
    "\\end{equation}\n",
    "\n",
    "Будем изменять магнитное поле в катушках таким образом, чтобы расстояние между пиками на осциллографе было одинаковым. \n",
    "\n"
   ]
  },
  {
   "cell_type": "markdown",
   "metadata": {},
   "source": [
    "Пробная катушка имеет следующие параметры: \n",
    "\n",
    "$d = 14.6 \\pm 0.1 мм^2$\n",
    "\n",
    "$n = 46$\n",
    "\n",
    "Магнитное поле $B_0$ находим при помощи пробной катушки.\n",
    "Зная напряжение на катушках при постоянном поле, и заменив на переменное $(\\omega =2\\pi \\cdot50 Гц)$, с таким же действующим значением напряжения получаем:\n",
    "\n",
    "\\begin{equation}\n",
    "V = 10.8 \\pm 0.1  \\hspace{3mm} мВ\n",
    "\\end{equation}\n",
    "\n",
    "\\begin{equation}\n",
    "B_0 = \\frac{V}{nS\\omega} = \\frac{4V}{\\pi d^2 n \\omega} = (4.46 \\pm 0.02)\\cdot 10^{-3} Тл = (44.6 \\pm 0.2) Гс\n",
    "\\end{equation}"
   ]
  },
  {
   "cell_type": "markdown",
   "metadata": {},
   "source": [
    "#### Найдем g - фактор электрона по полученным данным:\n",
    "\n",
    "\\begin{equation}\n",
    "g = \\frac{\\hbar \\omega _0}{\\mu _Б B_0} = \\frac{2\\pi \\hbar f_{рез}}{\\mu _Б B_0} = 2.05 \\pm 0.08\n",
    "\\end{equation}"
   ]
  },
  {
   "cell_type": "markdown",
   "metadata": {},
   "source": [
    "#### Определение ширины линии ЭПР \n",
    "Переключим осциллограф на развертку модулирующих катушек. Определим действующее значение модулирующего поля аналогично предыдущим пунктам:\n",
    "\n",
    "\\begin{equation}\n",
    "V_{мод} = (2.0 \\pm 0.1) мВ\n",
    "\\end{equation}\n",
    "\\begin{equation}\n",
    "B_{мод} = \\frac{V_{мод}}{nS\\omega} = (1.16 \\pm 0.02)\\cdot 10^{-3} Тл\n",
    "\\end{equation}\n",
    "\n",
    "По осциллографу измерим необходимые значения:\n",
    "\n",
    "\\begin{equation}\n",
    "\\frac{\\Delta L}{2L} = \\frac{3}{5}\n",
    "\\end{equation}\n",
    "\n",
    "\\begin{equation}\n",
    "\\frac{\\Delta L}{2L} = \\frac{\\Delta B}{2B}\n",
    "\\end{equation}\n",
    "\n",
    "Таким образом ширина линии ЭПР равна:\n",
    "\n",
    "\\begin{equation}\n",
    "\\Delta B = (2.32 \\pm 0.05)10^{-4}Тл\n",
    "\\end{equation}\n",
    "\n",
    "Определим добротность установки:\n",
    "\n",
    "#### Определение ширины линии ЭПР \n",
    "Переключим осциллограф на развертку модулирующих катушек. Определим действующее значение модулирующего поля аналогично предыдущим пунктам:\n",
    "\n",
    "\\begin{equation}\n",
    "V_{мод} = (2.0 \\pm 0.1) мВ\n",
    "\\end{equation}\n",
    "\\begin{equation}\n",
    "B_{мод} = \\frac{V_{мод}}{nS\\omega} = (1.16 \\pm 0.02)\\cdot 10^{-3} Тл\n",
    "\\end{equation}\n",
    "\n",
    "По осциллографу измерим необходимые значения:\n",
    "\n",
    "\\begin{equation}\n",
    "\\frac{\\Delta L}{2L} = \\frac{3}{5}\n",
    "\\end{equation}\n",
    "\n",
    "\\begin{equation}\n",
    "\\frac{\\Delta L}{2L} = \\frac{\\Delta B}{2B}\n",
    "\\end{equation}\n",
    "\n",
    "Таким образом ширина линии ЭПР равна:\n",
    "\n",
    "Определим добротность установки:\n",
    "\\begin{equation}\n",
    "Q = \\frac{B_0}{\\Delta B} = 19\n",
    "\\end{equation}\n",
    "\n",
    "\n"
   ]
  },
  {
   "cell_type": "markdown",
   "metadata": {},
   "source": [
    "#### Вывод\n",
    "\n",
    "В этой работе была исследована ЭПР. По результатам экспериментальных данных определили g-фактор электрона, ширину линии ЭПР и добротность установки. "
   ]
  },
  {
   "cell_type": "code",
   "execution_count": 2,
   "metadata": {},
   "outputs": [
    {
     "name": "stdout",
     "output_type": "stream",
     "text": [
      "0.004468491204342563\n"
     ]
    }
   ],
   "source": [
    "#print(4*10.8/1000/46/3.14/2/3.14/50/14.6**2*1000000)"
   ]
  },
  {
   "cell_type": "code",
   "execution_count": 5,
   "metadata": {},
   "outputs": [
    {
     "name": "stdout",
     "output_type": "stream",
     "text": [
      "2.054235418752812\n"
     ]
    }
   ],
   "source": [
    "#print(2*3.14*1.05*10**(1)*128.8/4.46/927)"
   ]
  },
  {
   "cell_type": "code",
   "execution_count": 8,
   "metadata": {},
   "outputs": [
    {
     "name": "stdout",
     "output_type": "stream",
     "text": [
      "1.1584977196443682\n"
     ]
    }
   ],
   "source": [
    "#print(4*2.0*1.4/1000/46/3.14/2/3.14/50/14.6**2*1000000000)"
   ]
  },
  {
   "cell_type": "code",
   "execution_count": null,
   "metadata": {},
   "outputs": [],
   "source": []
  }
 ],
 "metadata": {
  "kernelspec": {
   "display_name": "Python 3",
   "language": "python",
   "name": "python3"
  },
  "language_info": {
   "codemirror_mode": {
    "name": "ipython",
    "version": 3
   },
   "file_extension": ".py",
   "mimetype": "text/x-python",
   "name": "python",
   "nbconvert_exporter": "python",
   "pygments_lexer": "ipython3",
   "version": "3.5.2"
  }
 },
 "nbformat": 4,
 "nbformat_minor": 2
}
